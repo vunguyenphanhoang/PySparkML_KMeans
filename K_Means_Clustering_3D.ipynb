{
 "cells": [
  {
   "cell_type": "markdown",
   "metadata": {},
   "source": [
    "# Dataset: data3D.csv\n",
    "\n",
    "* Read Dataset\n",
    "* Pre-process data\n",
    "* Use K-Means to cluster 3D points"
   ]
  },
  {
   "cell_type": "code",
   "execution_count": 1,
   "metadata": {},
   "outputs": [],
   "source": [
    "import pyspark\n",
    "from pyspark import SparkContext\n",
    "\n",
    "sc = SparkContext(master='local', appName = '3D_points')"
   ]
  },
  {
   "cell_type": "code",
   "execution_count": 2,
   "metadata": {},
   "outputs": [
    {
     "data": {
      "text/plain": [
       "'/Users/vunguyen/server/spark-2.4.6-bin-hadoop2.7'"
      ]
     },
     "execution_count": 2,
     "metadata": {},
     "output_type": "execute_result"
    }
   ],
   "source": [
    "import findspark\n",
    "findspark.init()\n",
    "import pyspark\n",
    "findspark.find()"
   ]
  },
  {
   "cell_type": "code",
   "execution_count": 3,
   "metadata": {},
   "outputs": [
    {
     "data": {
      "text/html": [
       "\n",
       "            <div>\n",
       "                <p><b>SparkSession - in-memory</b></p>\n",
       "                \n",
       "        <div>\n",
       "            <p><b>SparkContext</b></p>\n",
       "\n",
       "            <p><a href=\"http://172.16.1.207:4041\">Spark UI</a></p>\n",
       "\n",
       "            <dl>\n",
       "              <dt>Version</dt>\n",
       "                <dd><code>v2.4.6</code></dd>\n",
       "              <dt>Master</dt>\n",
       "                <dd><code>local</code></dd>\n",
       "              <dt>AppName</dt>\n",
       "                <dd><code>3D_points</code></dd>\n",
       "            </dl>\n",
       "        </div>\n",
       "        \n",
       "            </div>\n",
       "        "
      ],
      "text/plain": [
       "<pyspark.sql.session.SparkSession at 0x7f82120859d0>"
      ]
     },
     "execution_count": 3,
     "metadata": {},
     "output_type": "execute_result"
    }
   ],
   "source": [
    "from pyspark import SparkContext, SparkConf\n",
    "from pyspark.sql import SparkSession\n",
    "'''\n",
    "conf= pyspark.SparkConf().setAppName('tets_app').setMaster('local')\n",
    "sc=pyspark.SparkContext(conf=conf)\n",
    "sc\n",
    "'''\n",
    "\n",
    "#sc= SparkContext()\n",
    "spark = (SparkSession\n",
    "         .builder\n",
    "         .appName('3D_points')\n",
    "         .getOrCreate())\n",
    "spark"
   ]
  },
  {
   "cell_type": "code",
   "execution_count": 4,
   "metadata": {},
   "outputs": [],
   "source": [
    "data = spark.read.csv('File/data3D.csv', header = True, inferSchema=True)"
   ]
  },
  {
   "cell_type": "code",
   "execution_count": 5,
   "metadata": {},
   "outputs": [
    {
     "name": "stdout",
     "output_type": "stream",
     "text": [
      "+------+-----------------+------------------+------------------+\n",
      "|    id|                x|                 y|                 z|\n",
      "+------+-----------------+------------------+------------------+\n",
      "|point0|5.647627534046943|-6.356222340123802|-7.240816026826695|\n",
      "|point1|4.414367138680041|-10.32624175635328| 8.963324308916228|\n",
      "|point2|5.005396944639823|-9.301070062115645| 10.35473056351597|\n",
      "+------+-----------------+------------------+------------------+\n",
      "only showing top 3 rows\n",
      "\n"
     ]
    }
   ],
   "source": [
    "data.show(3)"
   ]
  },
  {
   "cell_type": "code",
   "execution_count": 6,
   "metadata": {},
   "outputs": [],
   "source": [
    "data = data.select(['x','y','z'])"
   ]
  },
  {
   "cell_type": "code",
   "execution_count": 7,
   "metadata": {},
   "outputs": [
    {
     "name": "stdout",
     "output_type": "stream",
     "text": [
      "+-----------------+------------------+------------------+\n",
      "|                x|                 y|                 z|\n",
      "+-----------------+------------------+------------------+\n",
      "|5.647627534046943|-6.356222340123802|-7.240816026826695|\n",
      "|4.414367138680041|-10.32624175635328| 8.963324308916228|\n",
      "|5.005396944639823|-9.301070062115645| 10.35473056351597|\n",
      "+-----------------+------------------+------------------+\n",
      "only showing top 3 rows\n",
      "\n"
     ]
    }
   ],
   "source": [
    "data.show(3)"
   ]
  },
  {
   "cell_type": "code",
   "execution_count": 8,
   "metadata": {},
   "outputs": [],
   "source": [
    "from pyspark.ml.linalg import Vectors\n",
    "from pyspark.ml.feature import VectorAssembler"
   ]
  },
  {
   "cell_type": "code",
   "execution_count": 9,
   "metadata": {},
   "outputs": [
    {
     "data": {
      "text/plain": [
       "['x', 'y', 'z']"
      ]
     },
     "execution_count": 9,
     "metadata": {},
     "output_type": "execute_result"
    }
   ],
   "source": [
    "data.columns"
   ]
  },
  {
   "cell_type": "code",
   "execution_count": 10,
   "metadata": {},
   "outputs": [],
   "source": [
    "vec_assembler = VectorAssembler(\n",
    "            inputCols=data.columns,\n",
    "            outputCol='features')"
   ]
  },
  {
   "cell_type": "code",
   "execution_count": 11,
   "metadata": {},
   "outputs": [],
   "source": [
    "final_data = vec_assembler.transform(data)"
   ]
  },
  {
   "cell_type": "markdown",
   "metadata": {},
   "source": [
    "Dont need to scale data, because the numbers is not high, the distance between them is normal"
   ]
  },
  {
   "cell_type": "code",
   "execution_count": 12,
   "metadata": {},
   "outputs": [],
   "source": [
    "from pyspark.ml.clustering import KMeans"
   ]
  },
  {
   "cell_type": "code",
   "execution_count": 13,
   "metadata": {},
   "outputs": [
    {
     "name": "stdout",
     "output_type": "stream",
     "text": [
      "k = 2 WSSE = 45986645.26272916\n",
      "k = 3 WSSE = 10318450.986694533\n",
      "k = 4 WSSE = 7962772.952404431\n",
      "k = 5 WSSE = 2988261.404456032\n",
      "k = 6 WSSE = 2854999.9464747766\n",
      "k = 7 WSSE = 2727630.343215306\n",
      "k = 8 WSSE = 2603723.3229706665\n",
      "k = 9 WSSE = 2476246.8957771985\n",
      "k = 10 WSSE = 2394382.9506517565\n"
     ]
    }
   ],
   "source": [
    "k_list = []\n",
    "wssse_list = []\n",
    "for k in range(2,11):\n",
    "#     Nếu bài toán k scale thì đưa feature vào, còn nếu đã scaled thì lấy col đã scale vào\n",
    "    kmeans = KMeans(featuresCol='features', k=k)\n",
    "    model = kmeans.fit(final_data)\n",
    "    wssse = model.computeCost(final_data)\n",
    "    k_list.append(k)\n",
    "    wssse_list.append(wssse)\n",
    "    print('k =',k,'WSSE = ' + str(wssse))"
   ]
  },
  {
   "cell_type": "markdown",
   "metadata": {},
   "source": [
    "Select k=5 because k=5 where the WSSE decrease strongly and after that it fell steadily"
   ]
  },
  {
   "cell_type": "code",
   "execution_count": 14,
   "metadata": {},
   "outputs": [
    {
     "name": "stdout",
     "output_type": "stream",
     "text": [
      "WSSE = 2988261.404456032\n"
     ]
    }
   ],
   "source": [
    "kmeans = KMeans(featuresCol='features', k=5)\n",
    "model = kmeans.fit(final_data)\n",
    "    \n",
    "wssse = model.computeCost(final_data)\n",
    "print('WSSE = ' + str(wssse))"
   ]
  },
  {
   "cell_type": "code",
   "execution_count": 15,
   "metadata": {},
   "outputs": [
    {
     "name": "stdout",
     "output_type": "stream",
     "text": [
      "Cluster Center:\n",
      "[-2.51171188  9.01595695  4.63712426]\n",
      "[ 1.96549346 -6.88119669 -6.87975076]\n",
      "[ 4.16341491 -9.58797827  9.39987937]\n",
      "[ 6.65778113 -5.75041752 -6.36930371]\n",
      "[-8.84025639  7.32373332  2.02350234]\n"
     ]
    }
   ],
   "source": [
    "centers = model.clusterCenters()\n",
    "print('Cluster Center:')\n",
    "for center in centers:\n",
    "    print(center)"
   ]
  },
  {
   "cell_type": "code",
   "execution_count": 16,
   "metadata": {},
   "outputs": [],
   "source": [
    "predictions = model.transform(final_data)"
   ]
  },
  {
   "cell_type": "code",
   "execution_count": 17,
   "metadata": {},
   "outputs": [
    {
     "name": "stdout",
     "output_type": "stream",
     "text": [
      "+----------+\n",
      "|prediction|\n",
      "+----------+\n",
      "|         3|\n",
      "|         2|\n",
      "|         2|\n",
      "|         2|\n",
      "|         4|\n",
      "+----------+\n",
      "only showing top 5 rows\n",
      "\n"
     ]
    }
   ],
   "source": [
    "predictions.select('prediction').show(5)"
   ]
  },
  {
   "cell_type": "code",
   "execution_count": 18,
   "metadata": {},
   "outputs": [
    {
     "name": "stdout",
     "output_type": "stream",
     "text": [
      "+----------+------+\n",
      "|prediction| count|\n",
      "+----------+------+\n",
      "|         1|200041|\n",
      "|         3|199959|\n",
      "|         4|199981|\n",
      "|         2|200000|\n",
      "|         0|200019|\n",
      "+----------+------+\n",
      "\n"
     ]
    }
   ],
   "source": [
    "predictions.groupBy('prediction').count().show()"
   ]
  },
  {
   "cell_type": "markdown",
   "metadata": {},
   "source": [
    "They have equal size for each cluster"
   ]
  },
  {
   "cell_type": "code",
   "execution_count": 19,
   "metadata": {},
   "outputs": [
    {
     "data": {
      "text/plain": [
       "DataFrame[prediction: int]"
      ]
     },
     "execution_count": 19,
     "metadata": {},
     "output_type": "execute_result"
    }
   ],
   "source": [
    "data_result = predictions.select('prediction')\n",
    "data_result"
   ]
  },
  {
   "cell_type": "code",
   "execution_count": 20,
   "metadata": {},
   "outputs": [
    {
     "data": {
      "text/plain": [
       "['prediction']"
      ]
     },
     "execution_count": 20,
     "metadata": {},
     "output_type": "execute_result"
    }
   ],
   "source": [
    "data_result.columns"
   ]
  },
  {
   "cell_type": "code",
   "execution_count": 21,
   "metadata": {},
   "outputs": [
    {
     "name": "stdout",
     "output_type": "stream",
     "text": [
      "+-----------------+------------------+------------------+--------------------+\n",
      "|                x|                 y|                 z|            features|\n",
      "+-----------------+------------------+------------------+--------------------+\n",
      "|5.647627534046943|-6.356222340123802|-7.240816026826695|[5.64762753404694...|\n",
      "|4.414367138680041|-10.32624175635328| 8.963324308916228|[4.41436713868004...|\n",
      "|5.005396944639823|-9.301070062115645| 10.35473056351597|[5.00539694463982...|\n",
      "+-----------------+------------------+------------------+--------------------+\n",
      "only showing top 3 rows\n",
      "\n"
     ]
    }
   ],
   "source": [
    "final_data.show(3)"
   ]
  },
  {
   "cell_type": "code",
   "execution_count": 22,
   "metadata": {},
   "outputs": [],
   "source": [
    "temp = final_data.select('features').rdd.map(lambda x: x[0].toArray().tolist()).toDF()"
   ]
  },
  {
   "cell_type": "code",
   "execution_count": 23,
   "metadata": {},
   "outputs": [
    {
     "name": "stdout",
     "output_type": "stream",
     "text": [
      "+-----------------+------------------+------------------+\n",
      "|               _1|                _2|                _3|\n",
      "+-----------------+------------------+------------------+\n",
      "|5.647627534046943|-6.356222340123802|-7.240816026826695|\n",
      "|4.414367138680041|-10.32624175635328| 8.963324308916228|\n",
      "|5.005396944639823|-9.301070062115645| 10.35473056351597|\n",
      "+-----------------+------------------+------------------+\n",
      "only showing top 3 rows\n",
      "\n"
     ]
    }
   ],
   "source": [
    "temp.show(3)"
   ]
  },
  {
   "cell_type": "code",
   "execution_count": 24,
   "metadata": {},
   "outputs": [],
   "source": [
    "import pyspark.sql.functions as f"
   ]
  },
  {
   "cell_type": "code",
   "execution_count": 26,
   "metadata": {},
   "outputs": [],
   "source": [
    "temp = temp.withColumn('row_index', f.monotonically_increasing_id())\n",
    "data_result = data_result.withColumn('row_index', f.monotonically_increasing_id())\n",
    "temp = temp.join(data_result, on=['row_index']).sort('row_index').drop('row_index')"
   ]
  },
  {
   "cell_type": "code",
   "execution_count": 27,
   "metadata": {},
   "outputs": [
    {
     "name": "stdout",
     "output_type": "stream",
     "text": [
      "+-------------------+-------------------+-------------------+----------+\n",
      "|                 _1|                 _2|                 _3|prediction|\n",
      "+-------------------+-------------------+-------------------+----------+\n",
      "|  5.647627534046943| -6.356222340123802| -7.240816026826695|         3|\n",
      "|  4.414367138680041| -10.32624175635328|  8.963324308916228|         2|\n",
      "|  5.005396944639823| -9.301070062115645|  10.35473056351597|         2|\n",
      "|  4.120163380083817| -7.602476887414266| 11.899997733558848|         2|\n",
      "|  -9.90345298323414|  6.018967450867092| 2.0499450056095667|         4|\n",
      "|-3.1594393958474907|  8.573317231663315|  2.358313545308847|         0|\n",
      "| -7.397441928137873|  8.045395595903233| 1.7854606646015299|         4|\n",
      "|-0.9693510271500931|  7.862982927569075| 3.2409227574252446|         0|\n",
      "| 0.8429846570527002| -7.512538594618869| -7.011648822392197|         1|\n",
      "|  5.790224308267301|-12.205503891046252|  8.483613639072914|         2|\n",
      "| -9.446537710309725|  8.119076412296552|-0.4233730080356417|         4|\n",
      "| -8.418363923849146|  6.429709332373884| 1.2525832476934764|         4|\n",
      "|-2.0858517904683875|  8.415331396352924|   4.39652007605152|         0|\n",
      "| 0.9995146210772836| -6.556070104479053| -5.909100366781967|         1|\n",
      "|    4.6183993732949| -8.787447344408644|  9.136337794763792|         2|\n",
      "| 2.9335087957514707|-6.3931621973473955| -6.069076073439579|         1|\n",
      "| -1.478795657302866|  9.159096785803609|   5.56561705972092|         0|\n",
      "|-11.753479661277167|  6.695759006875593|  4.246692246660029|         4|\n",
      "|-10.150667295898526|  7.726249394554123| 2.6327181340645054|         4|\n",
      "|  1.056220990258447| -6.143899128056742| -6.254741741061425|         1|\n",
      "+-------------------+-------------------+-------------------+----------+\n",
      "only showing top 20 rows\n",
      "\n"
     ]
    }
   ],
   "source": [
    "temp.show()"
   ]
  },
  {
   "cell_type": "code",
   "execution_count": 30,
   "metadata": {},
   "outputs": [],
   "source": [
    "from pyspark.sql.functions import col\n",
    "\n",
    "temp=temp.select(col('_1').alias('x_scale'), \n",
    "                 col('_2').alias('y_scale'),\n",
    "                 col('_3').alias('z_scale'), \n",
    "                'prediction')"
   ]
  },
  {
   "cell_type": "code",
   "execution_count": 31,
   "metadata": {},
   "outputs": [],
   "source": [
    "df = temp.toPandas()"
   ]
  },
  {
   "cell_type": "code",
   "execution_count": 32,
   "metadata": {},
   "outputs": [
    {
     "data": {
      "text/html": [
       "<div>\n",
       "<style scoped>\n",
       "    .dataframe tbody tr th:only-of-type {\n",
       "        vertical-align: middle;\n",
       "    }\n",
       "\n",
       "    .dataframe tbody tr th {\n",
       "        vertical-align: top;\n",
       "    }\n",
       "\n",
       "    .dataframe thead th {\n",
       "        text-align: right;\n",
       "    }\n",
       "</style>\n",
       "<table border=\"1\" class=\"dataframe\">\n",
       "  <thead>\n",
       "    <tr style=\"text-align: right;\">\n",
       "      <th></th>\n",
       "      <th>x_scale</th>\n",
       "      <th>y_scale</th>\n",
       "      <th>z_scale</th>\n",
       "      <th>prediction</th>\n",
       "    </tr>\n",
       "  </thead>\n",
       "  <tbody>\n",
       "    <tr>\n",
       "      <th>0</th>\n",
       "      <td>5.647628</td>\n",
       "      <td>-6.356222</td>\n",
       "      <td>-7.240816</td>\n",
       "      <td>3</td>\n",
       "    </tr>\n",
       "    <tr>\n",
       "      <th>1</th>\n",
       "      <td>4.414367</td>\n",
       "      <td>-10.326242</td>\n",
       "      <td>8.963324</td>\n",
       "      <td>2</td>\n",
       "    </tr>\n",
       "    <tr>\n",
       "      <th>2</th>\n",
       "      <td>5.005397</td>\n",
       "      <td>-9.301070</td>\n",
       "      <td>10.354731</td>\n",
       "      <td>2</td>\n",
       "    </tr>\n",
       "  </tbody>\n",
       "</table>\n",
       "</div>"
      ],
      "text/plain": [
       "    x_scale    y_scale    z_scale  prediction\n",
       "0  5.647628  -6.356222  -7.240816           3\n",
       "1  4.414367 -10.326242   8.963324           2\n",
       "2  5.005397  -9.301070  10.354731           2"
      ]
     },
     "execution_count": 32,
     "metadata": {},
     "output_type": "execute_result"
    }
   ],
   "source": [
    "df.head(3)"
   ]
  },
  {
   "cell_type": "code",
   "execution_count": 34,
   "metadata": {},
   "outputs": [
    {
     "data": {
      "text/html": [
       "<div>\n",
       "<style scoped>\n",
       "    .dataframe tbody tr th:only-of-type {\n",
       "        vertical-align: middle;\n",
       "    }\n",
       "\n",
       "    .dataframe tbody tr th {\n",
       "        vertical-align: top;\n",
       "    }\n",
       "\n",
       "    .dataframe thead th {\n",
       "        text-align: right;\n",
       "    }\n",
       "</style>\n",
       "<table border=\"1\" class=\"dataframe\">\n",
       "  <thead>\n",
       "    <tr style=\"text-align: right;\">\n",
       "      <th></th>\n",
       "      <th>0</th>\n",
       "      <th>1</th>\n",
       "      <th>2</th>\n",
       "    </tr>\n",
       "  </thead>\n",
       "  <tbody>\n",
       "    <tr>\n",
       "      <th>0</th>\n",
       "      <td>-2.511712</td>\n",
       "      <td>9.015957</td>\n",
       "      <td>4.637124</td>\n",
       "    </tr>\n",
       "    <tr>\n",
       "      <th>1</th>\n",
       "      <td>1.965493</td>\n",
       "      <td>-6.881197</td>\n",
       "      <td>-6.879751</td>\n",
       "    </tr>\n",
       "    <tr>\n",
       "      <th>2</th>\n",
       "      <td>4.163415</td>\n",
       "      <td>-9.587978</td>\n",
       "      <td>9.399879</td>\n",
       "    </tr>\n",
       "    <tr>\n",
       "      <th>3</th>\n",
       "      <td>6.657781</td>\n",
       "      <td>-5.750418</td>\n",
       "      <td>-6.369304</td>\n",
       "    </tr>\n",
       "    <tr>\n",
       "      <th>4</th>\n",
       "      <td>-8.840256</td>\n",
       "      <td>7.323733</td>\n",
       "      <td>2.023502</td>\n",
       "    </tr>\n",
       "  </tbody>\n",
       "</table>\n",
       "</div>"
      ],
      "text/plain": [
       "          0         1         2\n",
       "0 -2.511712  9.015957  4.637124\n",
       "1  1.965493 -6.881197 -6.879751\n",
       "2  4.163415 -9.587978  9.399879\n",
       "3  6.657781 -5.750418 -6.369304\n",
       "4 -8.840256  7.323733  2.023502"
      ]
     },
     "execution_count": 34,
     "metadata": {},
     "output_type": "execute_result"
    }
   ],
   "source": [
    "import pandas as pd\n",
    "\n",
    "centers_df = pd.DataFrame(centers)\n",
    "centers_df.head()"
   ]
  },
  {
   "cell_type": "code",
   "execution_count": 35,
   "metadata": {},
   "outputs": [],
   "source": [
    "import numpy as np\n",
    "import matplotlib.pyplot as plt\n",
    "from mpl_toolkits.mplot3d import Axes3D"
   ]
  },
  {
   "cell_type": "code",
   "execution_count": 36,
   "metadata": {},
   "outputs": [
    {
     "data": {
      "image/png": "[encoded data removed]",
      "text/plain": [
       "<Figure size 864x720 with 1 Axes>"
      ]
     },
     "metadata": {
      "needs_background": "light"
     },
     "output_type": "display_data"
    }
   ],
   "source": [
    "TD = plt.figure(figsize=(12,10)).gca(projection='3d')\n",
    "TD.scatter(df.x_scale, df.y_scale, df.z_scale,\n",
    "                c = df.prediction)\n",
    "TD.set_xlabel('x')\n",
    "TD.set_ylabel('y')\n",
    "TD.set_zlabel('z')\n",
    "\n",
    "plt.show()"
   ]
  },
  {
   "cell_type": "markdown",
   "metadata": {},
   "source": [
    "# Combine result"
   ]
  },
  {
   "cell_type": "code",
   "execution_count": 37,
   "metadata": {},
   "outputs": [],
   "source": [
    "final_data = final_data.withColumn('row_index', f.monotonically_increasing_id())\n",
    "temp = temp.withColumn('row_index', f.monotonically_increasing_id())\n",
    "final_data = final_data.join(temp, on=['row_index']).sort('row_index').drop('row_index')"
   ]
  },
  {
   "cell_type": "code",
   "execution_count": 38,
   "metadata": {},
   "outputs": [
    {
     "name": "stdout",
     "output_type": "stream",
     "text": [
      "+-----------------+------------------+------------------+---------------------------------------------------------+-----------------+------------------+------------------+----------+\n",
      "|x                |y                 |z                 |features                                                 |x_scale          |y_scale           |z_scale           |prediction|\n",
      "+-----------------+------------------+------------------+---------------------------------------------------------+-----------------+------------------+------------------+----------+\n",
      "|5.647627534046943|-6.356222340123802|-7.240816026826695|[5.647627534046943,-6.356222340123802,-7.240816026826695]|5.647627534046943|-6.356222340123802|-7.240816026826695|3         |\n",
      "|4.414367138680041|-10.32624175635328|8.963324308916228 |[4.414367138680041,-10.32624175635328,8.963324308916228] |4.414367138680041|-10.32624175635328|8.963324308916228 |2         |\n",
      "|5.005396944639823|-9.301070062115645|10.35473056351597 |[5.005396944639823,-9.301070062115645,10.35473056351597] |5.005396944639823|-9.301070062115645|10.35473056351597 |2         |\n",
      "+-----------------+------------------+------------------+---------------------------------------------------------+-----------------+------------------+------------------+----------+\n",
      "only showing top 3 rows\n",
      "\n"
     ]
    }
   ],
   "source": [
    "final_data.show(3, False)"
   ]
  },
  {
   "cell_type": "code",
   "execution_count": null,
   "metadata": {},
   "outputs": [],
   "source": []
  }
 ],
 "metadata": {
  "kernelspec": {
   "display_name": "Python 3",
   "language": "python",
   "name": "python3"
  },
  "language_info": {
   "codemirror_mode": {
    "name": "ipython",
    "version": 3
   },
   "file_extension": ".py",
   "mimetype": "text/x-python",
   "name": "python",
   "nbconvert_exporter": "python",
   "pygments_lexer": "ipython3",
   "version": "3.7.6"
  }
 },
 "nbformat": 4,
 "nbformat_minor": 4
}
